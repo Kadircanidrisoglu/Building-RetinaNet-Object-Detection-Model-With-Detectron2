{
 "cells": [
  {
   "cell_type": "code",
   "execution_count": 1,
   "metadata": {
    "execution": {
     "iopub.execute_input": "2024-10-15T18:01:49.808683Z",
     "iopub.status.busy": "2024-10-15T18:01:49.808379Z",
     "iopub.status.idle": "2024-10-15T18:04:14.035791Z",
     "shell.execute_reply": "2024-10-15T18:04:14.034712Z",
     "shell.execute_reply.started": "2024-10-15T18:01:49.808648Z"
    },
    "trusted": true
   },
   "outputs": [],
   "source": [
    "%%capture\n",
    "!pip install torch torchvision --index-url https://download.pytorch.org/whl/cu118\n",
    "!pip install 'git+https://github.com/facebookresearch/detectron2.git'\n",
    "!pip install detectron2 -f \\https://dl.fbaipublicfiles.com/detectron2/wheels/cu102/torch1.7/index.html"
   ]
  },
  {
   "cell_type": "code",
   "execution_count": 2,
   "metadata": {
    "execution": {
     "iopub.execute_input": "2024-10-15T18:04:14.038178Z",
     "iopub.status.busy": "2024-10-15T18:04:14.037823Z",
     "iopub.status.idle": "2024-10-15T18:04:22.258521Z",
     "shell.execute_reply": "2024-10-15T18:04:22.257541Z",
     "shell.execute_reply.started": "2024-10-15T18:04:14.038116Z"
    },
    "trusted": true
   },
   "outputs": [
    {
     "data": {
      "text/html": [
       "        <script type=\"text/javascript\">\n",
       "        window.PlotlyConfig = {MathJaxConfig: 'local'};\n",
       "        if (window.MathJax && window.MathJax.Hub && window.MathJax.Hub.Config) {window.MathJax.Hub.Config({SVG: {font: \"STIX-Web\"}});}\n",
       "        if (typeof require !== 'undefined') {\n",
       "        require.undef(\"plotly\");\n",
       "        requirejs.config({\n",
       "            paths: {\n",
       "                'plotly': ['https://cdn.plot.ly/plotly-2.32.0.min']\n",
       "            }\n",
       "        });\n",
       "        require(['plotly'], function(Plotly) {\n",
       "            window._Plotly = Plotly;\n",
       "        });\n",
       "        }\n",
       "        </script>\n",
       "        "
      ]
     },
     "metadata": {},
     "output_type": "display_data"
    }
   ],
   "source": [
    "import gc\n",
    "import os\n",
    "from pathlib import Path\n",
    "import random\n",
    "import sys\n",
    "import json\n",
    "\n",
    "from tqdm.notebook import tqdm\n",
    "import numpy as np\n",
    "import pandas as pd\n",
    "import scipy as sp\n",
    "import torch\n",
    "\n",
    "\n",
    "import matplotlib.pyplot as plt\n",
    "import seaborn as sns\n",
    "\n",
    "from IPython.display import display, HTML\n",
    "\n",
    "# --- plotly ---\n",
    "from plotly import tools, subplots\n",
    "import plotly.offline as py\n",
    "py.init_notebook_mode(connected=True)\n",
    "import plotly.graph_objs as go\n",
    "import plotly.express as px\n",
    "import plotly.figure_factory as ff\n",
    "import plotly.io as pio\n",
    "pio.templates.default = \"plotly_dark\"\n",
    "\n",
    "# --- models ---\n",
    "from sklearn import preprocessing\n",
    "from sklearn.model_selection import KFold\n",
    "import lightgbm as lgb\n",
    "import xgboost as xgb\n",
    "import catboost as cb\n",
    "\n",
    "# --- setup ---\n",
    "pd.set_option('display.max_columns', 50)"
   ]
  },
  {
   "cell_type": "code",
   "execution_count": null,
   "metadata": {
    "execution": {
     "iopub.execute_input": "2024-10-15T18:04:22.261573Z",
     "iopub.status.busy": "2024-10-15T18:04:22.259732Z",
     "iopub.status.idle": "2024-10-15T18:04:22.266332Z",
     "shell.execute_reply": "2024-10-15T18:04:22.265056Z",
     "shell.execute_reply.started": "2024-10-15T18:04:22.261536Z"
    },
    "trusted": true
   },
   "outputs": [],
   "source": [
    "# --- configs ---\n",
    "thing_classes = [\n",
    "    \"bina\",\n",
    "    \"yol_kesisimi\",\n",
    "    \"futbol_sahasi\",\n",
    "    \"silo\"\n",
    "]"
   ]
  },
  {
   "cell_type": "code",
   "execution_count": null,
   "metadata": {
    "execution": {
     "iopub.execute_input": "2024-10-15T18:04:22.268820Z",
     "iopub.status.busy": "2024-10-15T18:04:22.268500Z",
     "iopub.status.idle": "2024-10-15T18:04:24.140299Z",
     "shell.execute_reply": "2024-10-15T18:04:24.139381Z",
     "shell.execute_reply.started": "2024-10-15T18:04:22.268771Z"
    },
    "trusted": true
   },
   "outputs": [
    {
     "data": {
      "text/plain": [
       "namespace(name='sayzek_train',\n",
       "          thing_classes=['bina', 'yol_kesisimi', 'futbol_sahası', 'silo'])"
      ]
     },
     "execution_count": 4,
     "metadata": {},
     "output_type": "execute_result"
    }
   ],
   "source": [
    "from detectron2.data import MetadataCatalog\n",
    "\n",
    "MetadataCatalog.get(\"sayzek_train\").set(thing_classes=thing_classes)\n"
   ]
  },
  {
   "cell_type": "code",
   "execution_count": null,
   "metadata": {
    "execution": {
     "iopub.execute_input": "2024-10-15T12:01:38.275368Z",
     "iopub.status.busy": "2024-10-15T12:01:38.274487Z",
     "iopub.status.idle": "2024-10-15T12:01:54.043366Z",
     "shell.execute_reply": "2024-10-15T12:01:54.042379Z",
     "shell.execute_reply.started": "2024-10-15T12:01:38.275325Z"
    },
    "trusted": true
   },
   "outputs": [
    {
     "name": "stderr",
     "output_type": "stream",
     "text": [
      "/opt/conda/lib/python3.10/site-packages/fvcore/common/checkpoint.py:252: FutureWarning:\n",
      "\n",
      "You are using `torch.load` with `weights_only=False` (the current default value), which uses the default pickle module implicitly. It is possible to construct malicious pickle data which will execute arbitrary code during unpickling (See https://github.com/pytorch/pytorch/blob/main/SECURITY.md#untrusted-models for more details). In a future release, the default value for `weights_only` will be flipped to `True`. This limits the functions that could be executed during unpickling. Arbitrary objects will no longer be allowed to be loaded via this mode unless they are explicitly allowlisted by the user via `torch.serialization.add_safe_globals`. We recommend you start setting `weights_only=True` for any use case where you don't have full control of the loaded file. Please open an issue on GitHub for any issues related to this experimental feature.\n",
      "\n",
      "/opt/conda/lib/python3.10/site-packages/torch/functional.py:513: UserWarning:\n",
      "\n",
      "torch.meshgrid: in an upcoming release, it will be required to pass the indexing argument. (Triggered internally at /usr/local/src/pytorch/aten/src/ATen/native/TensorShape.cpp:3609.)\n",
      "\n"
     ]
    }
   ],
   "source": [
    "import json\n",
    "import cv2\n",
    "import os\n",
    "from detectron2.engine import DefaultPredictor\n",
    "from detectron2.config import get_cfg\n",
    "from detectron2 import model_zoo\n",
    "\n",
    "# Setting the trained model and configurations\n",
    "def setup_cfg(model_weights, num_classes=4):\n",
    "    cfg = get_cfg()\n",
    "    config_name = \"COCO-Detection/retinanet_R_50_FPN_3x.yaml\"  \n",
    "    cfg.merge_from_file(model_zoo.get_config_file(config_name))\n",
    "    cfg.MODEL.WEIGHTS = model_weights  \n",
    "    cfg.MODEL.RETINANET.NUM_CLASSES = num_classes  \n",
    "    cfg.MODEL.RETINANET.SCORE_THRESH_TEST = 0  \n",
    "    cfg.DATALOADER.NUM_WORKERS = 2  \n",
    "    cfg.SOLVER.IMS_PER_BATCH = 2  \n",
    "    return cfg\n",
    "\n",
    "# Making predictions and saving as json format. \n",
    "def infer_and_save_results(cfg, test_images_path, image_file_name_to_image_id, output_json_path):\n",
    "    predictor = DefaultPredictor(cfg)\n",
    "    results = []\n",
    "\n",
    "    for img_name in os.listdir(test_images_path):\n",
    "        image_path = os.path.join(test_images_path, img_name)\n",
    "        image = cv2.imread(image_path)\n",
    "\n",
    "        outputs = predictor(image)\n",
    "        instances = outputs[\"instances\"].to(\"cpu\")\n",
    "\n",
    "        bboxes = instances.pred_boxes.tensor.numpy()\n",
    "        labels = instances.pred_classes.numpy()\n",
    "        scores = instances.scores.numpy()\n",
    "\n",
    "        img_id = image_file_name_to_image_id[img_name]\n",
    "\n",
    "        for bbox, label, score in zip(bboxes, labels, scores):\n",
    "\n",
    "            bbox[2], bbox[3] = bbox[2] - bbox[0], bbox[3] - bbox[1]  \n",
    "\n",
    "            res = {\n",
    "                'image_id': img_id,\n",
    "                'category_id': int(label) + 1, \n",
    "                'bbox': list(bbox.astype('float64')),\n",
    "                'score': float(\"{:.8f}\".format(score))\n",
    "            }\n",
    "            results.append(res)\n",
    "\n",
    "    with open(output_json_path, 'w') as f:\n",
    "        json.dump(results, f)\n",
    "\n",
    "if __name__ == \"__main__\":\n",
    "    model_weights = \"/kaggle/input/final-retinanet-model/model_final.pth\"  \n",
    "    test_images_path = '/kaggle/input/test-data/test-images'  \n",
    "    image_file_name_to_image_id = json.load(open('/kaggle/input/test-annotations/test_image_file_name_to_image_id.json')) \n",
    "    output_json_path = 'KadircanIdrisoglu.json'  \n",
    "\n",
    "    cfg = setup_cfg(model_weights)\n",
    "\n",
    "    thing_classes = [\"bina\", \"yol_kesisimi\", \"futbol_sahasi\", \"silo\"]\n",
    "    MetadataCatalog.get(\"sayzek_train\").set(thing_classes=thing_classes)\n",
    "\n",
    "\n",
    "\n",
    "    infer_and_save_results(cfg, test_images_path, image_file_name_to_image_id, output_json_path)\n"
   ]
  },
  {
   "cell_type": "code",
   "execution_count": null,
   "metadata": {},
   "outputs": [],
   "source": []
  }
 ],
 "metadata": {
  "kaggle": {
   "accelerator": "gpu",
   "dataSources": [
    {
     "datasetId": 5879592,
     "sourceId": 9631003,
     "sourceType": "datasetVersion"
    },
    {
     "datasetId": 5879695,
     "sourceId": 9631126,
     "sourceType": "datasetVersion"
    },
    {
     "datasetId": 5879706,
     "sourceId": 9631137,
     "sourceType": "datasetVersion"
    }
   ],
   "dockerImageVersionId": 30787,
   "isGpuEnabled": true,
   "isInternetEnabled": true,
   "language": "python",
   "sourceType": "notebook"
  },
  "kernelspec": {
   "display_name": "Python 3",
   "language": "python",
   "name": "python3"
  },
  "language_info": {
   "codemirror_mode": {
    "name": "ipython",
    "version": 3
   },
   "file_extension": ".py",
   "mimetype": "text/x-python",
   "name": "python",
   "nbconvert_exporter": "python",
   "pygments_lexer": "ipython3",
   "version": "3.10.14"
  }
 },
 "nbformat": 4,
 "nbformat_minor": 4
}
